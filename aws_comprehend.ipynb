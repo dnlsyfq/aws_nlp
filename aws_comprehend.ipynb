{
 "metadata": {
  "language_info": {
   "codemirror_mode": {
    "name": "ipython",
    "version": 3
   },
   "file_extension": ".py",
   "mimetype": "text/x-python",
   "name": "python",
   "nbconvert_exporter": "python",
   "pygments_lexer": "ipython3",
   "version": 3
  },
  "orig_nbformat": 2
 },
 "nbformat": 4,
 "nbformat_minor": 2,
 "cells": [
  {
   "source": [
    "# NLP\n",
    "\n",
    "* Sentiment\n",
    "* Entities\n",
    "* Languages\n",
    "* Key Phrases\n",
    "* Topic Modelling\n",
    "\n"
   ],
   "cell_type": "markdown",
   "metadata": {}
  },
  {
   "source": [
    "### Text Analysis\n",
    "\n",
    "* Named Entities\n",
    "* Keyphrases\n",
    "* Sentiment\n",
    "* Language "
   ],
   "cell_type": "markdown",
   "metadata": {}
  },
  {
   "source": [
    "### Topic Modelling\n",
    "\n",
    "* Extract up to 100 topics from a corpus of documents\n",
    "* Organizes documents into topics"
   ],
   "cell_type": "markdown",
   "metadata": {}
  },
  {
   "source": [
    "### Common Patterns\n",
    "* Voice of Customer Analytics\n",
    "* Semantic Search\n",
    "* Knowledge Management / Discovery"
   ],
   "cell_type": "markdown",
   "metadata": {}
  },
  {
   "source": [
    "<img src=\"img/1.png\">"
   ],
   "cell_type": "markdown",
   "metadata": {}
  },
  {
   "source": [
    "Electronic Health Records (EHR) / clinical notes / radiology readings -> Extracting valuable patient-care information \n"
   ],
   "cell_type": "markdown",
   "metadata": {}
  },
  {
   "source": [
    "<img src=\"img/2.png\">"
   ],
   "cell_type": "markdown",
   "metadata": {}
  },
  {
   "cell_type": "code",
   "execution_count": null,
   "metadata": {},
   "outputs": [],
   "source": []
  }
 ]
}