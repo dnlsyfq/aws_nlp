{
 "metadata": {
  "language_info": {
   "codemirror_mode": {
    "name": "ipython",
    "version": 3
   },
   "file_extension": ".py",
   "mimetype": "text/x-python",
   "name": "python",
   "nbconvert_exporter": "python",
   "pygments_lexer": "ipython3",
   "version": 3
  },
  "orig_nbformat": 2
 },
 "nbformat": 4,
 "nbformat_minor": 2,
 "cells": [
  {
   "source": [
    "### AWS Transcribe\n",
    "\n",
    "* Automatic speech recognition\n",
    "* Unstructured audio\n",
    "    * phone calls\n",
    "    * recorded meetings \n",
    "* Source specific accuracy\n",
    "    * custom vocabulary\n",
    "    * language selection\n",
    "    * multiple speaker recognition\n",
    "* Format:\n",
    "    * WAV\n",
    "    * FLAC\n",
    "    * MP3\n",
    "    * MP4\n",
    "* Less than 2 hours"
   ],
   "cell_type": "markdown",
   "metadata": {}
  },
  {
   "source": [
    "<img src=\"img/7.png\">"
   ],
   "cell_type": "markdown",
   "metadata": {}
  },
  {
   "source": [
    "<img src=\"img/8.png\">\n"
   ],
   "cell_type": "markdown",
   "metadata": {}
  },
  {
   "source": [
    "<img src=\"img/9.png\">"
   ],
   "cell_type": "markdown",
   "metadata": {}
  },
  {
   "source": [
    "<img src=\"img/10.png\">"
   ],
   "cell_type": "markdown",
   "metadata": {}
  },
  {
   "source": [
    "iot javascript sdk\n",
    "\n",
    "<img src=\"img/11.png\">"
   ],
   "cell_type": "markdown",
   "metadata": {}
  },
  {
   "source": [
    "\n",
    "### Media Convert \n",
    "\n",
    "<img src=\"img/12.png\">"
   ],
   "cell_type": "markdown",
   "metadata": {}
  },
  {
   "source": [
    "### Media Convert : Submit Job\n",
    "\n",
    "<img src=\"img/13.png\">\n"
   ],
   "cell_type": "markdown",
   "metadata": {}
  },
  {
   "source": [
    "** In Node.JS **\n",
    "\n",
    "<img src=\"img/14.png\">\n"
   ],
   "cell_type": "markdown",
   "metadata": {}
  },
  {
   "cell_type": "code",
   "execution_count": null,
   "metadata": {},
   "outputs": [],
   "source": []
  }
 ]
}